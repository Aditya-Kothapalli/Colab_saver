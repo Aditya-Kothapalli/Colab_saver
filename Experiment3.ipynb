{
  "nbformat": 4,
  "nbformat_minor": 0,
  "metadata": {
    "colab": {
      "provenance": [],
      "authorship_tag": "ABX9TyP/ssuPFMBAD5VG4vYq1fkC",
      "include_colab_link": true
    },
    "kernelspec": {
      "name": "python3",
      "display_name": "Python 3"
    },
    "language_info": {
      "name": "python"
    }
  },
  "cells": [
    {
      "cell_type": "markdown",
      "metadata": {
        "id": "view-in-github",
        "colab_type": "text"
      },
      "source": [
        "<a href=\"https://colab.research.google.com/github/Aditya-Kothapalli/Colab_saver/blob/main/Exp3(similarty).ipynb\" target=\"_parent\"><img src=\"https://colab.research.google.com/assets/colab-badge.svg\" alt=\"Open In Colab\"/></a>"
      ]
    },
    {
      "cell_type": "code",
      "execution_count": 3,
      "metadata": {
        "colab": {
          "base_uri": "https://localhost:8080/"
        },
        "id": "eLT91qfWNUoF",
        "outputId": "bad4c657-ec2c-4eb3-d087-4d6c3f950256"
      },
      "outputs": [
        {
          "output_type": "stream",
          "name": "stdout",
          "text": [
            "Pearson's Correlation Coefficient: 0.9999999999999998\n"
          ]
        }
      ],
      "source": [
        "import numpy as np\n",
        "def pearson_correlation(x, y):\n",
        "# Calculate means\n",
        "  mean_x = np.mean(x)\n",
        "  mean_y = np.mean(y)\n",
        "# Calculate covariance and standard deviations\n",
        "  covariance = np.sum((x - mean_x) * (y - mean_y))\n",
        "  std_dev_x = np.sqrt(np.sum((x - mean_x) ** 2))\n",
        "  std_dev_y = np.sqrt(np.sum((y - mean_y) ** 2))\n",
        "# Calculate Pearson's correlation coefficient\n",
        "  correlation = covariance / (std_dev_x * std_dev_y)\n",
        "  return correlation\n",
        "# Example usage\n",
        "x = np.array([1, 2, 3, 4, 5])\n",
        "y = np.array([2, 3, 4, 5, 6])\n",
        "print(\"Pearson's Correlation Coefficient:\",\n",
        "pearson_correlation(x, y))"
      ]
    },
    {
      "cell_type": "code",
      "source": [
        "from sklearn.metrics.pairwise import cosine_similarity\n",
        "# Example usage\n",
        "vector1 = np.array([1, 2, 3])\n",
        "vector2 = np.array([4, 5, 6])\n",
        "cosine_sim = cosine_similarity(vector1.reshape(1,-1),\n",
        "vector2.reshape(1,-1))\n",
        "print(\"Cosine Similarity:\", cosine_sim[0][0])"
      ],
      "metadata": {
        "colab": {
          "base_uri": "https://localhost:8080/"
        },
        "id": "CfxWn9McPZks",
        "outputId": "893af069-7155-4e5c-bf0e-6e33e208da80"
      },
      "execution_count": 4,
      "outputs": [
        {
          "output_type": "stream",
          "name": "stdout",
          "text": [
            "Cosine Similarity: 0.9746318461970762\n"
          ]
        }
      ]
    },
    {
      "cell_type": "code",
      "source": [
        "def jaccard_similarity(set1, set2):\n",
        "  intersection = len(set1.intersection(set2))\n",
        "  union = len(set1.union(set2))\n",
        "  return intersection / union\n",
        "# Example usage\n",
        "set1 = set([1, 2, 3])\n",
        "set2 = set([2, 3, 4])\n",
        "print(\"Jaccard Similarity:\",\n",
        "jaccard_similarity(set1, set2))"
      ],
      "metadata": {
        "colab": {
          "base_uri": "https://localhost:8080/"
        },
        "id": "5iRh62dFPkKd",
        "outputId": "9a79d7e4-def9-4607-e450-8741ccaf04b4"
      },
      "execution_count": 7,
      "outputs": [
        {
          "output_type": "stream",
          "name": "stdout",
          "text": [
            "Jaccard Similarity: 0.5\n"
          ]
        }
      ]
    },
    {
      "cell_type": "code",
      "source": [
        "def euclidean_distance(x, y):\n",
        "  return np.sqrt(np.sum((x - y) ** 2))\n",
        "# Example usage\n",
        "point1 = np.array([1, 2, 3])\n",
        "point2 = np.array([4, 5, 6])\n",
        "print(\"Euclidean Distance:\",\n",
        "euclidean_distance(point1, point2))"
      ],
      "metadata": {
        "colab": {
          "base_uri": "https://localhost:8080/"
        },
        "id": "psQBuk4GP8pD",
        "outputId": "592e66e9-484f-47c3-9b73-786fbe5e00e0"
      },
      "execution_count": 8,
      "outputs": [
        {
          "output_type": "stream",
          "name": "stdout",
          "text": [
            "Euclidean Distance: 5.196152422706632\n"
          ]
        }
      ]
    },
    {
      "cell_type": "code",
      "source": [
        "def manhattan_distance(x, y):\n",
        "  return np.sum(np.abs(x - y))\n",
        "# Example usage\n",
        "point1 = np.array([1, 2, 3])\n",
        "point2 = np.array([4, 5, 6])\n",
        "print(\"Manhattan Distance:\",\n",
        "manhattan_distance(point1, point2))"
      ],
      "metadata": {
        "colab": {
          "base_uri": "https://localhost:8080/"
        },
        "id": "q_dg__huQFtM",
        "outputId": "5a0930b3-8409-4f6a-9e07-ff0923d2b58a"
      },
      "execution_count": 9,
      "outputs": [
        {
          "output_type": "stream",
          "name": "stdout",
          "text": [
            "Manhattan Distance: 9\n"
          ]
        }
      ]
    }
  ]
}
